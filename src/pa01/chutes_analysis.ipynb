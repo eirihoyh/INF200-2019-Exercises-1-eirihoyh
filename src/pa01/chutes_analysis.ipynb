{
 "cells": [
  {
   "cell_type": "code",
   "execution_count": null,
   "outputs": [],
   "source": [
    "__author__ = 'Aleksander Eriksen', 'Eirik Høyheim'\n",
    "__email__ = 'jaer@nmbu.no', 'eirihoyh@nmbu.no'\n",
    "\n",
    "\n",
    "from snakes_and_ladders import multi_game_experiment\n",
    "\n",
    "from matplotlib import pyplot as plt\n",
    "\n",
    "\n",
    "games = 100 # Running 100 simulations\n",
    "plt.subplots()\n",
    "\n",
    "\n",
    "one_player = multi_game_experiment(games, 1)\n",
    "plot_one = plt.hist(one_player, histtype = 'step', bins = games)\n",
    "plt.title('1 Player')\n",
    "plt.xlabel('Moves')\n",
    "plt.ylabel('Winning players')\n",
    "\n",
    "plt.figure()\n",
    "two_player = multi_game_experiment(games, 2)\n",
    "plot_two = plt.hist(two_player, histtype = 'step', bins = games)\n",
    "plt.title('2 Players')\n",
    "plt.xlabel('Moves')\n",
    "plt.ylabel('Winning players')\n",
    "\n",
    "\n",
    "plt.figure()\n",
    "four_player = multi_game_experiment(games, 4)\n",
    "plot_four = plt.hist(four_player, histtype = 'step', bins = games)\n",
    "plt.title('4 Players')\n",
    "plt.xlabel('Moves')\n",
    "plt.ylabel('Winning players')\n",
    "\n",
    "\n",
    "plt.figure()\n",
    "eight_player = multiple_games(games, 8)\n",
    "plot_eight = plt.hist(eight_player, histtype = 'step', bins = games)\n",
    "plt.title('8 Players')\n",
    "plt.xlabel('Moves')\n",
    "plt.ylabel('Winning players')\n",
    "\n"
   ],
   "metadata": {
    "collapsed": false,
    "pycharm": {
     "name": "#%%\n"
    }
   }
  },
  {
   "cell_type": "code",
   "execution_count": null,
   "metadata": {},
   "outputs": [],
   "source": []
  }
 ],
 "metadata": {
  "kernelspec": {
   "display_name": "Python 3",
   "language": "python",
   "name": "python3"
  },
  "language_info": {
   "codemirror_mode": {
    "name": "ipython",
    "version": 3
   },
   "file_extension": ".py",
   "mimetype": "text/x-python",
   "name": "python",
   "nbconvert_exporter": "python",
   "pygments_lexer": "ipython3",
   "version": "3.7.3"
  },
  "pycharm": {
   "stem_cell": {
    "cell_type": "raw",
    "source": [],
    "metadata": {
     "collapsed": false
    }
   }
  }
 },
 "nbformat": 4,
 "nbformat_minor": 2
}