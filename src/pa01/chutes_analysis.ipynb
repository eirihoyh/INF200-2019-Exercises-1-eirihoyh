{
 "cells": [
  {
   "cell_type": "code",
   "execution_count": 3,
   "metadata": {},
   "outputs": [
    {
     "name": "stdout",
     "output_type": "stream",
     "text": [
      "The shortest game was 5 moves, \n",
      "and the longest game was 55 moves.\n",
      "\n",
      "The median game duration was 16.0 moves\n",
      "The mean game duration was 17.7 moves, \n",
      "and its standard deviation is 8.0.\n"
     ]
    }
   ],
   "source": [
    "# -*- coding: utf-8 -*-\n",
    "\n",
    "__author__ = 'Aleksander Eriksen', 'Eirik Høyheim'\n",
    "__email__ = 'jaer@nmbu.no', 'eirihoyh@nmbu.no'\n",
    "\n",
    "import random\n",
    "import numpy as np\n",
    "\n",
    "\n",
    "def throw_dice():\n",
    "\treturn random.randint(1, 6)\n",
    "\n",
    "\n",
    "def single_game(num_players):\n",
    "\t\"\"\"\n",
    "\tReturns duration of single game.\n",
    "\n",
    "\tArguments\n",
    "\t---------\n",
    "\tnum_players : int\n",
    "\t    Number of players in the game\n",
    "\n",
    "\tReturns\n",
    "\t-------\n",
    "\tnum_moves : int\n",
    "\t    Number of moves the winning player needed to reach the goal\n",
    "\t\"\"\"\n",
    "\tsnake_ladder = {1 : 40, 8: 10, 36: 52, 43: 62, 49: 79, 65: 82, 68: 85,\n",
    "\t\t\t\t\t24: 5, 33: 3, 42: 30, 56: 37, 64: 27, 74: 12, 87: 70}\n",
    "\n",
    "\tplayer_pos = [0] * num_players  # Initializing player positions\n",
    "\tplayer_moves = [0] * num_players  # Initializing player moves\n",
    "\n",
    "\tfor game in range(num_players):  # Going through each players game\n",
    "\n",
    "\t\twhile player_pos[game] < 90:  # Done when player reaches 90\n",
    "\t\t\tplayer_pos[game] += throw_dice()  # adding dice-value to position\n",
    "\n",
    "\t\t\t# Checking if player position is in snake or ladder position\n",
    "\t\t\t# If so, it replaces the position accordingly.\n",
    "\t\t\tif player_pos[game] in snake_ladder:\n",
    "\t\t\t\tplayer_pos[game] = snake_ladder[player_pos[game]]\n",
    "\n",
    "\t\t\tplayer_moves[game] += 1  # moves/turns of the player\n",
    "\n",
    "\twinner = min(player_moves)  # player with lowest moves wins\n",
    "\n",
    "\treturn winner\n",
    "\n",
    "\n",
    "def multiple_games(num_games, num_players):\n",
    "\t\"\"\"\n",
    "\tReturns durations of a number of games.\n",
    "\n",
    "\tArguments\n",
    "\t---------\n",
    "\tnum_games : int\n",
    "\t\tNumber of games to play\n",
    "\tnum_players : int\n",
    "\t\tNumber of players in the game\n",
    "\n",
    "\tReturns\n",
    "\t-------\n",
    "\tnum_moves : list\n",
    "\t\tList with the number of moves needed in each game.\n",
    "\t\"\"\"\n",
    "\treturn [single_game(num_players) for _ in range(num_games)]\n",
    "\n",
    "\n",
    "def multi_game_experiment(num_games, num_players, seed):\n",
    "\t\"\"\"\n",
    "\tReturns durations of a number of games when playing with given seed.\n",
    "\n",
    "\tArguments\n",
    "\t---------\n",
    "\tnum_games : int\n",
    "\t\tNumber of games to play\n",
    "\tnum_players : int\n",
    "\t\tNumber of players in the game\n",
    "\tseed : int\n",
    "\t\tSeed used to initialise the random number generator\n",
    "\n",
    "\tReturns\n",
    "\t-------\n",
    "\tnum_moves : list\n",
    "\t\tList with the number of moves needed in each game.\n",
    "\t\"\"\"\n",
    "\trandom.seed(seed)\n",
    "\treturn multiple_games(num_games, num_players)\n",
    "\n",
    "\n",
    "if __name__ == \"__main__\":\n",
    "\tgame_simulation = sorted(multi_game_experiment(100, 4, 3))\n",
    "\n",
    "\tshortest_game = min(game_simulation)\n",
    "\tlongest_game = max(game_simulation)\n",
    "\tmedian_game = np.median(game_simulation)\n",
    "\tmean_game = np.mean(game_simulation)\n",
    "\tstd_deviation = np.std(game_simulation)\n",
    "\n",
    "\tprint(f'The shortest game was {shortest_game} moves, \\n'\n",
    "\t\t  f'and the longest game was {longest_game} moves.')\n",
    "\n",
    "\tprint(f'\\nThe median game duration was {median_game} moves')\n",
    "\n",
    "\tprint(f'The mean game duration was {mean_game:.1f} moves, \\n'\n",
    "\t\t  f'and its standard deviation is {std_deviation:.1f}.')\n"
   ]
  },
  {
   "cell_type": "code",
   "execution_count": 82,
   "metadata": {},
   "outputs": [
    {
     "data": {
      "text/plain": [
       "Text(0, 0.5, 'Winning players')"
      ]
     },
     "execution_count": 82,
     "metadata": {},
     "output_type": "execute_result"
    },
    {
     "data": {
      "image/png": "[encoded data removed]",
      "text/plain": [
       "<Figure size 432x288 with 1 Axes>"
      ]
     },
     "metadata": {
      "needs_background": "light"
     },
     "output_type": "display_data"
    },
    {
     "data": {
      "image/png": "[encoded data removed]",
      "text/plain": [
       "<Figure size 432x288 with 1 Axes>"
      ]
     },
     "metadata": {
      "needs_background": "light"
     },
     "output_type": "display_data"
    },
    {
     "data": {
      "image/png": "[encoded data removed]",
      "text/plain": [
       "<Figure size 432x288 with 1 Axes>"
      ]
     },
     "metadata": {
      "needs_background": "light"
     },
     "output_type": "display_data"
    },
    {
     "data": {
      "image/png": "[encoded data removed]",
      "text/plain": [
       "<Figure size 432x288 with 1 Axes>"
      ]
     },
     "metadata": {
      "needs_background": "light"
     },
     "output_type": "display_data"
    }
   ],
   "source": [
    "from matplotlib import pyplot as plt\n",
    "games = 100 # Running 100 simulations\n",
    "\n",
    "\n",
    "plt.subplots()\n",
    "\n",
    "\n",
    "one_player = multiple_games(games, 1)\n",
    "plot_one = plt.hist(one_player, histtype = 'step', bins = games)\n",
    "plt.title('1 Player')\n",
    "plt.xlabel('Moves')\n",
    "plt.ylabel('Winning players')\n",
    "\n",
    "plt.figure()\n",
    "two_player = multiple_games(games, 2)\n",
    "plot_two = plt.hist(two_player, histtype = 'step', bins = games)\n",
    "plt.title('2 Players')\n",
    "plt.xlabel('Moves')\n",
    "plt.ylabel('Winning players')\n",
    "\n",
    "\n",
    "plt.figure()\n",
    "four_player = multiple_games(games, 4)\n",
    "plot_four = plt.hist(four_player, histtype = 'step', bins = games)\n",
    "plt.title('4 Players')\n",
    "plt.xlabel('Moves')\n",
    "plt.ylabel('Winning players')\n",
    "\n",
    "\n",
    "plt.figure()\n",
    "eight_player = multiple_games(games, 8)\n",
    "plot_eight = plt.hist(eight_player, histtype = 'step', bins = games)\n",
    "plt.title('8 Players')\n",
    "plt.xlabel('Moves')\n",
    "plt.ylabel('Winning players')\n",
    "\n"
   ]
  },
  {
   "cell_type": "code",
   "execution_count": null,
   "metadata": {},
   "outputs": [],
   "source": []
  }
 ],
 "metadata": {
  "kernelspec": {
   "display_name": "Python 3",
   "language": "python",
   "name": "python3"
  },
  "language_info": {
   "codemirror_mode": {
    "name": "ipython",
    "version": 3
   },
   "file_extension": ".py",
   "mimetype": "text/x-python",
   "name": "python",
   "nbconvert_exporter": "python",
   "pygments_lexer": "ipython3",
   "version": "3.7.3"
  },
  "pycharm": {
   "stem_cell": {
    "cell_type": "raw",
    "source": [],
    "metadata": {
     "collapsed": false
    }
   }
  }
 },
 "nbformat": 4,
 "nbformat_minor": 2
}